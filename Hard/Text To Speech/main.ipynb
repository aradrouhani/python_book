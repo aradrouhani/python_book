{
 "cells": [
  {
   "cell_type": "code",
   "execution_count": 1,
   "metadata": {},
   "outputs": [],
   "source": [
    "import requests as req \n",
    "from audioplayer import AudioPlayer\n",
    "\n",
    "\n",
    "tts=\"سلام میبینم که پروژه ها رو انجام دادی\"\n",
    "r = req.get(\"https://one-api.ir/tts/?token=341434:64ca5b8b5b197&action=microsoft&lang=fa-IR-FaridNeural&q=\"+tts, stream=True)\n",
    "\n",
    "with open('stream.mp3', 'wb') as f:\n",
    "    try:\n",
    "        for au in r.iter_content(1024):\n",
    "            f.write(au)\n",
    "        \n",
    "    except KeyboardInterrupt:\n",
    "        pass\n",
    "\n",
    "AudioPlayer(\"stream.mp3\").play(block=True)"
   ]
  }
 ],
 "metadata": {
  "kernelspec": {
   "display_name": "Python 3",
   "language": "python",
   "name": "python3"
  },
  "language_info": {
   "codemirror_mode": {
    "name": "ipython",
    "version": 3
   },
   "file_extension": ".py",
   "mimetype": "text/x-python",
   "name": "python",
   "nbconvert_exporter": "python",
   "pygments_lexer": "ipython3",
   "version": "3.8.8"
  },
  "orig_nbformat": 4
 },
 "nbformat": 4,
 "nbformat_minor": 2
}
