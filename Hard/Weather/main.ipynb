{
 "cells": [
  {
   "cell_type": "code",
   "execution_count": 4,
   "metadata": {},
   "outputs": [
    {
     "name": "stdout",
     "output_type": "stream",
     "text": [
      "آسمان صاف\n"
     ]
    }
   ],
   "source": [
    "import requests as req\n",
    "import json\n",
    "\n",
    "r = req.get(\"https://one-api.ir/weather/?token=341434:64ca5b8b5b197&action=current&city=تهران\")\n",
    "out = r.content\n",
    "out2 = json.loads(out)\n",
    "result = out2['result']['weather'][0]['description']\n",
    "print(result)   "
   ]
  }
 ],
 "metadata": {
  "kernelspec": {
   "display_name": "Python 3",
   "language": "python",
   "name": "python3"
  },
  "language_info": {
   "codemirror_mode": {
    "name": "ipython",
    "version": 3
   },
   "file_extension": ".py",
   "mimetype": "text/x-python",
   "name": "python",
   "nbconvert_exporter": "python",
   "pygments_lexer": "ipython3",
   "version": "3.8.8"
  },
  "orig_nbformat": 4
 },
 "nbformat": 4,
 "nbformat_minor": 2
}
