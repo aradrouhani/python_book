{
 "cells": [
  {
   "cell_type": "code",
   "execution_count": 1,
   "metadata": {},
   "outputs": [
    {
     "name": "stdout",
     "output_type": "stream",
     "text": [
      "دقـــت کـــردیـــن طـــرز نـمــره گــرفـتــن پســــرا و دختـــرا از استــاد مـرد اینجوریــه:\n",
      "پسـرا: اسـتاد بــه جـون مـادرم خــرج خـونـه و دانشـگارو خــودم میــدم،\n",
      "مـــادرم و بــابــام مریـــضه ، ۲ شیـفت کــار میـکنم\n",
      "واســه همیــن نتـونســتم خــوب درس بخـونــم!\n",
      "دخــترا:اســــتــــــــــــــــــــــــــــــــــاد !! \n",
      "من دیگه حرفی ندارم  (-ــ-)\n",
      "\n"
     ]
    }
   ],
   "source": [
    "import requests as req\n",
    "import json\n",
    "\n",
    "r = req.get(\"https://one-api.ir/joke/?token=341434:64ca5b8b5b197\")\n",
    "out = r.content\n",
    "out2 = json.loads(out)\n",
    "result = out2['result']\n",
    "print(result)"
   ]
  }
 ],
 "metadata": {
  "kernelspec": {
   "display_name": "Python 3",
   "language": "python",
   "name": "python3"
  },
  "language_info": {
   "codemirror_mode": {
    "name": "ipython",
    "version": 3
   },
   "file_extension": ".py",
   "mimetype": "text/x-python",
   "name": "python",
   "nbconvert_exporter": "python",
   "pygments_lexer": "ipython3",
   "version": "3.8.8"
  },
  "orig_nbformat": 4
 },
 "nbformat": 4,
 "nbformat_minor": 2
}
