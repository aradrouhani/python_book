{
 "cells": [
  {
   "cell_type": "code",
   "execution_count": 1,
   "metadata": {},
   "outputs": [
    {
     "name": "stdout",
     "output_type": "stream",
     "text": [
      "Mosavi\n",
      "Gheichi\n",
      "Bakhti\n",
      "Kaghaz\n"
     ]
    }
   ],
   "source": [
    "import random\n",
    "\n",
    "cn = 0\n",
    "while True:\n",
    "        \n",
    "    player = str(input())\n",
    "    x = [\"Sang\",\"Kaghaz\",\"Gheichi\"]\n",
    "    bot = x[random.randint(0,2)]\n",
    "    if player == bot:\n",
    "        print(\"Mosavi\")\n",
    "        print(bot)\n",
    "    elif player == \"Gheichi\" and bot == \"Sang\":\n",
    "        print(\"Bavti\")\n",
    "        print(bot)\n",
    "    elif player == \"Gheichi\" and bot == \"Kaghaz\":\n",
    "        print(\"Bordi\")\n",
    "        print(bot)\n",
    "    elif player == \"Kaghaz\" and bot == \"Sang\":\n",
    "        print(\"Bordi\")\n",
    "        print(bot)\n",
    "    elif player == \"Kaghaz\" and bot == \"Gheichi\":\n",
    "        print(\"Bakhti\")\n",
    "        print(bot)\n",
    "    elif player == \"Sang\" and bot == \"Gheichi\":\n",
    "        print(\"Bordi\")\n",
    "        print(bot)\n",
    "    elif player == \"Sang\" and bot == \"Kaghaz\":\n",
    "        print(\"Bakhti\")\n",
    "        print(bot)\n",
    "    cn+1\n",
    "    "
   ]
  }
 ],
 "metadata": {
  "kernelspec": {
   "display_name": "Python 3",
   "language": "python",
   "name": "python3"
  },
  "language_info": {
   "codemirror_mode": {
    "name": "ipython",
    "version": 3
   },
   "file_extension": ".py",
   "mimetype": "text/x-python",
   "name": "python",
   "nbconvert_exporter": "python",
   "pygments_lexer": "ipython3",
   "version": "3.8.8"
  },
  "orig_nbformat": 4
 },
 "nbformat": 4,
 "nbformat_minor": 2
}
