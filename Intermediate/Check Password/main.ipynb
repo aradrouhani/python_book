{
 "cells": [
  {
   "cell_type": "code",
   "execution_count": 1,
   "metadata": {},
   "outputs": [
    {
     "name": "stdout",
     "output_type": "stream",
     "text": [
      "Very Strong\n"
     ]
    }
   ],
   "source": [
    "cn = 0\n",
    "m1 = \"!@#$%^&*()_+=\"\n",
    "password = str(input(\"\"))\n",
    "adad = 0\n",
    "horoof_kochik = 0\n",
    "horoof_bozorg = 0\n",
    "alamat = 0\n",
    "tedad = 0\n",
    "tekrar = 0\n",
    "for x in password:\n",
    "    if x.isdigit() == True:\n",
    "        adad = 1\n",
    "\n",
    "    if x.isupper() == True:\n",
    "        horoof_bozorg = 1\n",
    "\n",
    "    if x.islower() == True:\n",
    "        horoof_kochik = 1\n",
    "\n",
    "    if (x in m1):\n",
    "        alamat = 1\n",
    "\n",
    "    if len(password) > 5:\n",
    "        tedad = 1\n",
    "\n",
    "kol = adad + horoof_bozorg + horoof_kochik + alamat + tedad\n",
    "if kol == 1:\n",
    "    print(\"Very Week\")\n",
    "if kol == 2:\n",
    "    print(\"Week\")\n",
    "if kol == 3:\n",
    "    print(\"Normal\")\n",
    "if kol == 4:\n",
    "    print(\"Strong\")\n",
    "if kol == 5:\n",
    "    print(\"Very Strong\")\n",
    "\n"
   ]
  }
 ],
 "metadata": {
  "kernelspec": {
   "display_name": "Python 3",
   "language": "python",
   "name": "python3"
  },
  "language_info": {
   "codemirror_mode": {
    "name": "ipython",
    "version": 3
   },
   "file_extension": ".py",
   "mimetype": "text/x-python",
   "name": "python",
   "nbconvert_exporter": "python",
   "pygments_lexer": "ipython3",
   "version": "3.8.8"
  },
  "orig_nbformat": 4
 },
 "nbformat": 4,
 "nbformat_minor": 2
}
