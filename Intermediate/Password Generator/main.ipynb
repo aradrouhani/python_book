{
 "cells": [
  {
   "cell_type": "code",
   "execution_count": 6,
   "metadata": {},
   "outputs": [
    {
     "name": "stdout",
     "output_type": "stream",
     "text": [
      "ig#gehe!f*\n"
     ]
    }
   ],
   "source": [
    "import random\n",
    "\n",
    "x = \"abcdefghikjlmnop#@!%$*_123456789\"\n",
    "password = x[random.randint(0,32)]+x[random.randint(0,32)]+x[random.randint(0,32)]+x[random.randint(0,32)]+x[random.randint(0,32)]+x[random.randint(0,32)]+x[random.randint(0,32)]+x[random.randint(0,32)]+x[random.randint(0,32)]+x[random.randint(0,32)]\n",
    "print (password)"
   ]
  }
 ],
 "metadata": {
  "kernelspec": {
   "display_name": "Python 3",
   "language": "python",
   "name": "python3"
  },
  "language_info": {
   "codemirror_mode": {
    "name": "ipython",
    "version": 3
   },
   "file_extension": ".py",
   "mimetype": "text/x-python",
   "name": "python",
   "nbconvert_exporter": "python",
   "pygments_lexer": "ipython3",
   "version": "3.8.8"
  },
  "orig_nbformat": 4
 },
 "nbformat": 4,
 "nbformat_minor": 2
}
