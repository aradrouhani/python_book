{
 "cells": [
  {
   "cell_type": "code",
   "execution_count": 1,
   "metadata": {},
   "outputs": [
    {
     "name": "stdout",
     "output_type": "stream",
     "text": [
      "salam bia beharfim\n"
     ]
    }
   ],
   "source": [
    "print (\"salam bia beharfim\")\n",
    "playertext = str(input())\n",
    "\n",
    "\n",
    "if playertext.find(\"salam\")>-1:\n",
    "    print (\"salam\")\n",
    "if playertext.find(\"khodafez\")>-1:\n",
    "    print (\"khodafez\")\n",
    "if playertext.find(\"chetori\")>-1:\n",
    "    print (\"khobam to chetori\")\n",
    "if playertext.find(\"chand salete\")>-1:\n",
    "    print (\"12\")\n",
    "if playertext.find(\"hava chetore\")>-1:\n",
    "    print (\"abri\")"
   ]
  }
 ],
 "metadata": {
  "kernelspec": {
   "display_name": "Python 3",
   "language": "python",
   "name": "python3"
  },
  "language_info": {
   "codemirror_mode": {
    "name": "ipython",
    "version": 3
   },
   "file_extension": ".py",
   "mimetype": "text/x-python",
   "name": "python",
   "nbconvert_exporter": "python",
   "pygments_lexer": "ipython3",
   "version": "3.8.8"
  },
  "orig_nbformat": 4
 },
 "nbformat": 4,
 "nbformat_minor": 2
}
