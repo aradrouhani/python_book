{
 "cells": [
  {
   "cell_type": "code",
   "execution_count": 2,
   "metadata": {},
   "outputs": [
    {
     "name": "stdout",
     "output_type": "stream",
     "text": [
      "Your geuss is downer\n",
      "Your geuss is upper\n",
      "Your geuss is downer\n",
      "Your geuss is upper\n",
      "Your geuss is upper\n",
      "You win\n"
     ]
    }
   ],
   "source": [
    "import random\n",
    "\n",
    "\n",
    "\n",
    "cn = 0\n",
    "gamewhile = True\n",
    "\n",
    "\n",
    "botnumber = random.randint(1,100) \n",
    "guesses = 10\n",
    "while gamewhile:\n",
    "    pn = int(input())\n",
    "    if pn == botnumber:\n",
    "        print (\"to bordi\")\n",
    "        exit()\n",
    "    if pn > botnumber:\n",
    "        print (\"hadset bishtare\")\n",
    "        guesses - 1\n",
    "    if pn < botnumber:\n",
    "        print (\"hadset paeen tare\")\n",
    "        guesses - 1\n",
    "    if guesses == 0:\n",
    "        print (\"to hadsat tamom shod yebar dige talash kon\")\n",
    "        exit()\n",
    "    cn + 1"
   ]
  }
 ],
 "metadata": {
  "kernelspec": {
   "display_name": "Python 3",
   "language": "python",
   "name": "python3"
  },
  "language_info": {
   "codemirror_mode": {
    "name": "ipython",
    "version": 3
   },
   "file_extension": ".py",
   "mimetype": "text/x-python",
   "name": "python",
   "nbconvert_exporter": "python",
   "pygments_lexer": "ipython3",
   "version": "3.8.8"
  },
  "orig_nbformat": 4
 },
 "nbformat": 4,
 "nbformat_minor": 2
}
